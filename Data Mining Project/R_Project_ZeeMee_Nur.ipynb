{
 "cells": [
  {
   "cell_type": "markdown",
   "metadata": {},
   "source": [
    "<center><h1>Project ZeeMee</h1><center>"
   ]
  },
  {
   "cell_type": "markdown",
   "metadata": {},
   "source": [
    "## Load the dataset"
   ]
  },
  {
   "cell_type": "code",
   "execution_count": 1,
   "metadata": {},
   "outputs": [],
   "source": [
    "data <- read.csv(\"data/zeemee_data.csv\")"
   ]
  },
  {
   "cell_type": "code",
   "execution_count": 2,
   "metadata": {},
   "outputs": [
    {
     "name": "stdout",
     "output_type": "stream",
     "text": [
      "[1] \"Number of rows: 18837\"\n",
      "[1] \"Number of columns: 20\"\n"
     ]
    }
   ],
   "source": [
    "print(paste(\"Number of rows:\", nrow(data)))\n",
    "print(paste(\"Number of columns:\", ncol(data)))\n",
    "# sprintf(\"Number of rows: %i\", nrow(data))\n",
    "# sprintf(\"Number of columns: %i\", ncol(data))"
   ]
  },
  {
   "cell_type": "code",
   "execution_count": 3,
   "metadata": {},
   "outputs": [
    {
     "data": {
      "text/html": [
       "<table>\n",
       "<thead><tr><th scope=col>college</th><th scope=col>public_profile_enabled</th><th scope=col>going</th><th scope=col>interested</th><th scope=col>start_term</th><th scope=col>cohort_year</th><th scope=col>created_by_csv</th><th scope=col>last_login</th><th scope=col>schools_followed</th><th scope=col>high_school</th><th scope=col>transfer_status</th><th scope=col>roommate_match_quiz</th><th scope=col>chat_messages_sent</th><th scope=col>chat_viewed</th><th scope=col>videos_liked</th><th scope=col>videos_viewed</th><th scope=col>videos_viewed_unique</th><th scope=col>total_official_videos</th><th scope=col>engaged</th><th scope=col>final_funnel_stage</th></tr></thead>\n",
       "<tbody>\n",
       "\t<tr><td>college1 </td><td> TRUE    </td><td>undecided</td><td>TRUE     </td><td>fall     </td><td>2019     </td><td>FALSE    </td><td>1549     </td><td>2        </td><td>unknown  </td><td>FALSE    </td><td>FALSE    </td><td>0        </td><td>0        </td><td>0        </td><td>0        </td><td>0        </td><td>127      </td><td>FALSE    </td><td>Inquired </td></tr>\n",
       "\t<tr><td>college2 </td><td>FALSE    </td><td>undecided</td><td>TRUE     </td><td>fall     </td><td>2019     </td><td>FALSE    </td><td>1482     </td><td>1        </td><td>unknown  </td><td>FALSE    </td><td>FALSE    </td><td>0        </td><td>0        </td><td>0        </td><td>0        </td><td>0        </td><td> 42      </td><td>FALSE    </td><td>Inquired </td></tr>\n",
       "\t<tr><td>college2 </td><td> TRUE    </td><td>undecided</td><td>TRUE     </td><td>fall     </td><td>2019     </td><td>FALSE    </td><td>1403     </td><td>3        </td><td>other    </td><td>FALSE    </td><td>FALSE    </td><td>0        </td><td>0        </td><td>0        </td><td>0        </td><td>0        </td><td> 42      </td><td>FALSE    </td><td>Inquired </td></tr>\n",
       "\t<tr><td>college4 </td><td> TRUE    </td><td>undecided</td><td>TRUE     </td><td>fall     </td><td>2019     </td><td>FALSE    </td><td>1403     </td><td>3        </td><td>other    </td><td>FALSE    </td><td>FALSE    </td><td>0        </td><td>0        </td><td>0        </td><td>0        </td><td>0        </td><td> 42      </td><td>FALSE    </td><td>Inquired </td></tr>\n",
       "\t<tr><td>college3 </td><td> TRUE    </td><td>undecided</td><td>TRUE     </td><td>fall     </td><td>2019     </td><td>FALSE    </td><td> 694     </td><td>1        </td><td>unknown  </td><td>FALSE    </td><td>FALSE    </td><td>0        </td><td>0        </td><td>0        </td><td>0        </td><td>0        </td><td> 23      </td><td>FALSE    </td><td>Inquired </td></tr>\n",
       "\t<tr><td>college3 </td><td> TRUE    </td><td>undecided</td><td>TRUE     </td><td>fall     </td><td>2019     </td><td>FALSE    </td><td>1402     </td><td>2        </td><td>unknown  </td><td>FALSE    </td><td>FALSE    </td><td>0        </td><td>0        </td><td>0        </td><td>0        </td><td>0        </td><td> 23      </td><td>FALSE    </td><td>Inquired </td></tr>\n",
       "</tbody>\n",
       "</table>\n"
      ],
      "text/latex": [
       "\\begin{tabular}{r|llllllllllllllllllll}\n",
       " college & public\\_profile\\_enabled & going & interested & start\\_term & cohort\\_year & created\\_by\\_csv & last\\_login & schools\\_followed & high\\_school & transfer\\_status & roommate\\_match\\_quiz & chat\\_messages\\_sent & chat\\_viewed & videos\\_liked & videos\\_viewed & videos\\_viewed\\_unique & total\\_official\\_videos & engaged & final\\_funnel\\_stage\\\\\n",
       "\\hline\n",
       "\t college1  &  TRUE     & undecided & TRUE      & fall      & 2019      & FALSE     & 1549      & 2         & unknown   & FALSE     & FALSE     & 0         & 0         & 0         & 0         & 0         & 127       & FALSE     & Inquired \\\\\n",
       "\t college2  & FALSE     & undecided & TRUE      & fall      & 2019      & FALSE     & 1482      & 1         & unknown   & FALSE     & FALSE     & 0         & 0         & 0         & 0         & 0         &  42       & FALSE     & Inquired \\\\\n",
       "\t college2  &  TRUE     & undecided & TRUE      & fall      & 2019      & FALSE     & 1403      & 3         & other     & FALSE     & FALSE     & 0         & 0         & 0         & 0         & 0         &  42       & FALSE     & Inquired \\\\\n",
       "\t college4  &  TRUE     & undecided & TRUE      & fall      & 2019      & FALSE     & 1403      & 3         & other     & FALSE     & FALSE     & 0         & 0         & 0         & 0         & 0         &  42       & FALSE     & Inquired \\\\\n",
       "\t college3  &  TRUE     & undecided & TRUE      & fall      & 2019      & FALSE     &  694      & 1         & unknown   & FALSE     & FALSE     & 0         & 0         & 0         & 0         & 0         &  23       & FALSE     & Inquired \\\\\n",
       "\t college3  &  TRUE     & undecided & TRUE      & fall      & 2019      & FALSE     & 1402      & 2         & unknown   & FALSE     & FALSE     & 0         & 0         & 0         & 0         & 0         &  23       & FALSE     & Inquired \\\\\n",
       "\\end{tabular}\n"
      ],
      "text/markdown": [
       "\n",
       "| college | public_profile_enabled | going | interested | start_term | cohort_year | created_by_csv | last_login | schools_followed | high_school | transfer_status | roommate_match_quiz | chat_messages_sent | chat_viewed | videos_liked | videos_viewed | videos_viewed_unique | total_official_videos | engaged | final_funnel_stage |\n",
       "|---|---|---|---|---|---|---|---|---|---|---|---|---|---|---|---|---|---|---|---|\n",
       "| college1  |  TRUE     | undecided | TRUE      | fall      | 2019      | FALSE     | 1549      | 2         | unknown   | FALSE     | FALSE     | 0         | 0         | 0         | 0         | 0         | 127       | FALSE     | Inquired  |\n",
       "| college2  | FALSE     | undecided | TRUE      | fall      | 2019      | FALSE     | 1482      | 1         | unknown   | FALSE     | FALSE     | 0         | 0         | 0         | 0         | 0         |  42       | FALSE     | Inquired  |\n",
       "| college2  |  TRUE     | undecided | TRUE      | fall      | 2019      | FALSE     | 1403      | 3         | other     | FALSE     | FALSE     | 0         | 0         | 0         | 0         | 0         |  42       | FALSE     | Inquired  |\n",
       "| college4  |  TRUE     | undecided | TRUE      | fall      | 2019      | FALSE     | 1403      | 3         | other     | FALSE     | FALSE     | 0         | 0         | 0         | 0         | 0         |  42       | FALSE     | Inquired  |\n",
       "| college3  |  TRUE     | undecided | TRUE      | fall      | 2019      | FALSE     |  694      | 1         | unknown   | FALSE     | FALSE     | 0         | 0         | 0         | 0         | 0         |  23       | FALSE     | Inquired  |\n",
       "| college3  |  TRUE     | undecided | TRUE      | fall      | 2019      | FALSE     | 1402      | 2         | unknown   | FALSE     | FALSE     | 0         | 0         | 0         | 0         | 0         |  23       | FALSE     | Inquired  |\n",
       "\n"
      ],
      "text/plain": [
       "  college  public_profile_enabled going     interested start_term cohort_year\n",
       "1 college1  TRUE                  undecided TRUE       fall       2019       \n",
       "2 college2 FALSE                  undecided TRUE       fall       2019       \n",
       "3 college2  TRUE                  undecided TRUE       fall       2019       \n",
       "4 college4  TRUE                  undecided TRUE       fall       2019       \n",
       "5 college3  TRUE                  undecided TRUE       fall       2019       \n",
       "6 college3  TRUE                  undecided TRUE       fall       2019       \n",
       "  created_by_csv last_login schools_followed high_school transfer_status\n",
       "1 FALSE          1549       2                unknown     FALSE          \n",
       "2 FALSE          1482       1                unknown     FALSE          \n",
       "3 FALSE          1403       3                other       FALSE          \n",
       "4 FALSE          1403       3                other       FALSE          \n",
       "5 FALSE           694       1                unknown     FALSE          \n",
       "6 FALSE          1402       2                unknown     FALSE          \n",
       "  roommate_match_quiz chat_messages_sent chat_viewed videos_liked videos_viewed\n",
       "1 FALSE               0                  0           0            0            \n",
       "2 FALSE               0                  0           0            0            \n",
       "3 FALSE               0                  0           0            0            \n",
       "4 FALSE               0                  0           0            0            \n",
       "5 FALSE               0                  0           0            0            \n",
       "6 FALSE               0                  0           0            0            \n",
       "  videos_viewed_unique total_official_videos engaged final_funnel_stage\n",
       "1 0                    127                   FALSE   Inquired          \n",
       "2 0                     42                   FALSE   Inquired          \n",
       "3 0                     42                   FALSE   Inquired          \n",
       "4 0                     42                   FALSE   Inquired          \n",
       "5 0                     23                   FALSE   Inquired          \n",
       "6 0                     23                   FALSE   Inquired          "
      ]
     },
     "metadata": {},
     "output_type": "display_data"
    }
   ],
   "source": [
    "head(data)"
   ]
  },
  {
   "cell_type": "code",
   "execution_count": 4,
   "metadata": {},
   "outputs": [
    {
     "data": {
      "text/html": [
       "<table>\n",
       "<thead><tr><th></th><th scope=col>college</th><th scope=col>public_profile_enabled</th><th scope=col>going</th><th scope=col>interested</th><th scope=col>start_term</th><th scope=col>cohort_year</th><th scope=col>created_by_csv</th><th scope=col>last_login</th><th scope=col>schools_followed</th><th scope=col>high_school</th><th scope=col>transfer_status</th><th scope=col>roommate_match_quiz</th><th scope=col>chat_messages_sent</th><th scope=col>chat_viewed</th><th scope=col>videos_liked</th><th scope=col>videos_viewed</th><th scope=col>videos_viewed_unique</th><th scope=col>total_official_videos</th><th scope=col>engaged</th><th scope=col>final_funnel_stage</th></tr></thead>\n",
       "<tbody>\n",
       "\t<tr><th scope=row>18832</th><td>college6 </td><td> TRUE    </td><td>going    </td><td>TRUE     </td><td>fall     </td><td>2019     </td><td>FALSE    </td><td>33       </td><td>1        </td><td>unknown  </td><td> TRUE    </td><td> TRUE    </td><td> 0       </td><td> 16      </td><td>0        </td><td>191      </td><td>63       </td><td>378      </td><td>TRUE     </td><td>Enrolled </td></tr>\n",
       "\t<tr><th scope=row>18833</th><td>college6 </td><td>FALSE    </td><td>undecided</td><td>TRUE     </td><td>fall     </td><td>2019     </td><td> TRUE    </td><td>13       </td><td>1        </td><td>unknown  </td><td> TRUE    </td><td> TRUE    </td><td> 7       </td><td>192      </td><td>0        </td><td> 81      </td><td> 3       </td><td>378      </td><td>TRUE     </td><td>Enrolled </td></tr>\n",
       "\t<tr><th scope=row>18834</th><td>college3 </td><td> TRUE    </td><td>undecided</td><td>TRUE     </td><td>fall     </td><td>2019     </td><td>FALSE    </td><td>43       </td><td>1        </td><td>unknown  </td><td> TRUE    </td><td>FALSE    </td><td> 0       </td><td>  0      </td><td>0        </td><td> 61      </td><td>21       </td><td> 23      </td><td>TRUE     </td><td>Inquired </td></tr>\n",
       "\t<tr><th scope=row>18835</th><td>college6 </td><td> TRUE    </td><td>undecided</td><td>TRUE     </td><td>fall     </td><td>2019     </td><td>FALSE    </td><td>50       </td><td>4        </td><td>unknown  </td><td>FALSE    </td><td> TRUE    </td><td> 4       </td><td>  9      </td><td>0        </td><td> 57      </td><td>14       </td><td>378      </td><td>TRUE     </td><td>Enrolled </td></tr>\n",
       "\t<tr><th scope=row>18836</th><td>college6 </td><td> TRUE    </td><td>going    </td><td>TRUE     </td><td>fall     </td><td>2019     </td><td>FALSE    </td><td>28       </td><td>1        </td><td>unknown  </td><td>FALSE    </td><td> TRUE    </td><td>48       </td><td>168      </td><td>0        </td><td>731      </td><td>44       </td><td>378      </td><td>TRUE     </td><td>Deposited</td></tr>\n",
       "\t<tr><th scope=row>18837</th><td>college3 </td><td> TRUE    </td><td>undecided</td><td>TRUE     </td><td>fall     </td><td>2019     </td><td>FALSE    </td><td>15       </td><td>1        </td><td>unknown  </td><td>FALSE    </td><td> TRUE    </td><td> 0       </td><td> 21      </td><td>0        </td><td> 41      </td><td> 9       </td><td> 23      </td><td>TRUE     </td><td>Deposited</td></tr>\n",
       "</tbody>\n",
       "</table>\n"
      ],
      "text/latex": [
       "\\begin{tabular}{r|llllllllllllllllllll}\n",
       "  & college & public\\_profile\\_enabled & going & interested & start\\_term & cohort\\_year & created\\_by\\_csv & last\\_login & schools\\_followed & high\\_school & transfer\\_status & roommate\\_match\\_quiz & chat\\_messages\\_sent & chat\\_viewed & videos\\_liked & videos\\_viewed & videos\\_viewed\\_unique & total\\_official\\_videos & engaged & final\\_funnel\\_stage\\\\\n",
       "\\hline\n",
       "\t18832 & college6  &  TRUE     & going     & TRUE      & fall      & 2019      & FALSE     & 33        & 1         & unknown   &  TRUE     &  TRUE     &  0        &  16       & 0         & 191       & 63        & 378       & TRUE      & Enrolled \\\\\n",
       "\t18833 & college6  & FALSE     & undecided & TRUE      & fall      & 2019      &  TRUE     & 13        & 1         & unknown   &  TRUE     &  TRUE     &  7        & 192       & 0         &  81       &  3        & 378       & TRUE      & Enrolled \\\\\n",
       "\t18834 & college3  &  TRUE     & undecided & TRUE      & fall      & 2019      & FALSE     & 43        & 1         & unknown   &  TRUE     & FALSE     &  0        &   0       & 0         &  61       & 21        &  23       & TRUE      & Inquired \\\\\n",
       "\t18835 & college6  &  TRUE     & undecided & TRUE      & fall      & 2019      & FALSE     & 50        & 4         & unknown   & FALSE     &  TRUE     &  4        &   9       & 0         &  57       & 14        & 378       & TRUE      & Enrolled \\\\\n",
       "\t18836 & college6  &  TRUE     & going     & TRUE      & fall      & 2019      & FALSE     & 28        & 1         & unknown   & FALSE     &  TRUE     & 48        & 168       & 0         & 731       & 44        & 378       & TRUE      & Deposited\\\\\n",
       "\t18837 & college3  &  TRUE     & undecided & TRUE      & fall      & 2019      & FALSE     & 15        & 1         & unknown   & FALSE     &  TRUE     &  0        &  21       & 0         &  41       &  9        &  23       & TRUE      & Deposited\\\\\n",
       "\\end{tabular}\n"
      ],
      "text/markdown": [
       "\n",
       "| <!--/--> | college | public_profile_enabled | going | interested | start_term | cohort_year | created_by_csv | last_login | schools_followed | high_school | transfer_status | roommate_match_quiz | chat_messages_sent | chat_viewed | videos_liked | videos_viewed | videos_viewed_unique | total_official_videos | engaged | final_funnel_stage |\n",
       "|---|---|---|---|---|---|---|---|---|---|---|---|---|---|---|---|---|---|---|---|---|\n",
       "| 18832 | college6  |  TRUE     | going     | TRUE      | fall      | 2019      | FALSE     | 33        | 1         | unknown   |  TRUE     |  TRUE     |  0        |  16       | 0         | 191       | 63        | 378       | TRUE      | Enrolled  |\n",
       "| 18833 | college6  | FALSE     | undecided | TRUE      | fall      | 2019      |  TRUE     | 13        | 1         | unknown   |  TRUE     |  TRUE     |  7        | 192       | 0         |  81       |  3        | 378       | TRUE      | Enrolled  |\n",
       "| 18834 | college3  |  TRUE     | undecided | TRUE      | fall      | 2019      | FALSE     | 43        | 1         | unknown   |  TRUE     | FALSE     |  0        |   0       | 0         |  61       | 21        |  23       | TRUE      | Inquired  |\n",
       "| 18835 | college6  |  TRUE     | undecided | TRUE      | fall      | 2019      | FALSE     | 50        | 4         | unknown   | FALSE     |  TRUE     |  4        |   9       | 0         |  57       | 14        | 378       | TRUE      | Enrolled  |\n",
       "| 18836 | college6  |  TRUE     | going     | TRUE      | fall      | 2019      | FALSE     | 28        | 1         | unknown   | FALSE     |  TRUE     | 48        | 168       | 0         | 731       | 44        | 378       | TRUE      | Deposited |\n",
       "| 18837 | college3  |  TRUE     | undecided | TRUE      | fall      | 2019      | FALSE     | 15        | 1         | unknown   | FALSE     |  TRUE     |  0        |  21       | 0         |  41       |  9        |  23       | TRUE      | Deposited |\n",
       "\n"
      ],
      "text/plain": [
       "      college  public_profile_enabled going     interested start_term\n",
       "18832 college6  TRUE                  going     TRUE       fall      \n",
       "18833 college6 FALSE                  undecided TRUE       fall      \n",
       "18834 college3  TRUE                  undecided TRUE       fall      \n",
       "18835 college6  TRUE                  undecided TRUE       fall      \n",
       "18836 college6  TRUE                  going     TRUE       fall      \n",
       "18837 college3  TRUE                  undecided TRUE       fall      \n",
       "      cohort_year created_by_csv last_login schools_followed high_school\n",
       "18832 2019        FALSE          33         1                unknown    \n",
       "18833 2019         TRUE          13         1                unknown    \n",
       "18834 2019        FALSE          43         1                unknown    \n",
       "18835 2019        FALSE          50         4                unknown    \n",
       "18836 2019        FALSE          28         1                unknown    \n",
       "18837 2019        FALSE          15         1                unknown    \n",
       "      transfer_status roommate_match_quiz chat_messages_sent chat_viewed\n",
       "18832  TRUE            TRUE                0                  16        \n",
       "18833  TRUE            TRUE                7                 192        \n",
       "18834  TRUE           FALSE                0                   0        \n",
       "18835 FALSE            TRUE                4                   9        \n",
       "18836 FALSE            TRUE               48                 168        \n",
       "18837 FALSE            TRUE                0                  21        \n",
       "      videos_liked videos_viewed videos_viewed_unique total_official_videos\n",
       "18832 0            191           63                   378                  \n",
       "18833 0             81            3                   378                  \n",
       "18834 0             61           21                    23                  \n",
       "18835 0             57           14                   378                  \n",
       "18836 0            731           44                   378                  \n",
       "18837 0             41            9                    23                  \n",
       "      engaged final_funnel_stage\n",
       "18832 TRUE    Enrolled          \n",
       "18833 TRUE    Enrolled          \n",
       "18834 TRUE    Inquired          \n",
       "18835 TRUE    Enrolled          \n",
       "18836 TRUE    Deposited         \n",
       "18837 TRUE    Deposited         "
      ]
     },
     "metadata": {},
     "output_type": "display_data"
    }
   ],
   "source": [
    "tail(data)"
   ]
  },
  {
   "cell_type": "markdown",
   "metadata": {},
   "source": [
    "## Basic information about the data"
   ]
  },
  {
   "cell_type": "markdown",
   "metadata": {},
   "source": [
    "### Investigating data types"
   ]
  },
  {
   "cell_type": "code",
   "execution_count": 5,
   "metadata": {
    "scrolled": true
   },
   "outputs": [
    {
     "name": "stdout",
     "output_type": "stream",
     "text": [
      "'data.frame':\t18837 obs. of  20 variables:\n",
      " $ college               : Factor w/ 8 levels \"college1\",\"college2\",..: 1 2 2 4 3 3 3 3 3 2 ...\n",
      " $ public_profile_enabled: logi  TRUE FALSE TRUE TRUE TRUE TRUE ...\n",
      " $ going                 : Factor w/ 3 levels \"going\",\"notgoing\",..: 3 3 3 3 3 3 3 3 3 3 ...\n",
      " $ interested            : logi  TRUE TRUE TRUE TRUE TRUE TRUE ...\n",
      " $ start_term            : Factor w/ 3 levels \"fall\",\"spring\",..: 1 1 1 1 1 1 1 1 1 1 ...\n",
      " $ cohort_year           : int  2019 2019 2019 2019 2019 2019 2019 2019 2019 2019 ...\n",
      " $ created_by_csv        : logi  FALSE FALSE FALSE FALSE FALSE FALSE ...\n",
      " $ last_login            : int  1549 1482 1403 1403 694 1402 1402 1214 1036 1402 ...\n",
      " $ schools_followed      : int  2 1 3 3 1 2 2 1 1 2 ...\n",
      " $ high_school           : Factor w/ 25 levels \"hs1\",\"hs10\",\"hs11\",..: 25 25 24 24 25 25 25 25 25 25 ...\n",
      " $ transfer_status       : logi  FALSE FALSE FALSE FALSE FALSE FALSE ...\n",
      " $ roommate_match_quiz   : logi  FALSE FALSE FALSE FALSE FALSE FALSE ...\n",
      " $ chat_messages_sent    : int  0 0 0 0 0 0 0 0 0 0 ...\n",
      " $ chat_viewed           : int  0 0 0 0 0 0 0 0 0 0 ...\n",
      " $ videos_liked          : int  0 0 0 0 0 0 0 0 0 0 ...\n",
      " $ videos_viewed         : int  0 0 0 0 0 0 0 0 0 0 ...\n",
      " $ videos_viewed_unique  : int  0 0 0 0 0 0 0 0 0 0 ...\n",
      " $ total_official_videos : int  127 42 42 42 23 23 23 23 23 23 ...\n",
      " $ engaged               : logi  FALSE FALSE FALSE FALSE FALSE FALSE ...\n",
      " $ final_funnel_stage    : Factor w/ 6 levels \"Accepted\",\"Application_Complete\",..: 6 6 6 6 6 6 6 6 6 6 ...\n"
     ]
    }
   ],
   "source": [
    "str(data)"
   ]
  },
  {
   "cell_type": "code",
   "execution_count": 6,
   "metadata": {},
   "outputs": [
    {
     "data": {
      "text/html": [
       "<dl class=dl-horizontal>\n",
       "\t<dt>college</dt>\n",
       "\t\t<dd>'factor'</dd>\n",
       "\t<dt>public_profile_enabled</dt>\n",
       "\t\t<dd>'logical'</dd>\n",
       "\t<dt>going</dt>\n",
       "\t\t<dd>'factor'</dd>\n",
       "\t<dt>interested</dt>\n",
       "\t\t<dd>'logical'</dd>\n",
       "\t<dt>start_term</dt>\n",
       "\t\t<dd>'factor'</dd>\n",
       "\t<dt>cohort_year</dt>\n",
       "\t\t<dd>'integer'</dd>\n",
       "\t<dt>created_by_csv</dt>\n",
       "\t\t<dd>'logical'</dd>\n",
       "\t<dt>last_login</dt>\n",
       "\t\t<dd>'integer'</dd>\n",
       "\t<dt>schools_followed</dt>\n",
       "\t\t<dd>'integer'</dd>\n",
       "\t<dt>high_school</dt>\n",
       "\t\t<dd>'factor'</dd>\n",
       "\t<dt>transfer_status</dt>\n",
       "\t\t<dd>'logical'</dd>\n",
       "\t<dt>roommate_match_quiz</dt>\n",
       "\t\t<dd>'logical'</dd>\n",
       "\t<dt>chat_messages_sent</dt>\n",
       "\t\t<dd>'integer'</dd>\n",
       "\t<dt>chat_viewed</dt>\n",
       "\t\t<dd>'integer'</dd>\n",
       "\t<dt>videos_liked</dt>\n",
       "\t\t<dd>'integer'</dd>\n",
       "\t<dt>videos_viewed</dt>\n",
       "\t\t<dd>'integer'</dd>\n",
       "\t<dt>videos_viewed_unique</dt>\n",
       "\t\t<dd>'integer'</dd>\n",
       "\t<dt>total_official_videos</dt>\n",
       "\t\t<dd>'integer'</dd>\n",
       "\t<dt>engaged</dt>\n",
       "\t\t<dd>'logical'</dd>\n",
       "\t<dt>final_funnel_stage</dt>\n",
       "\t\t<dd>'factor'</dd>\n",
       "</dl>\n"
      ],
      "text/latex": [
       "\\begin{description*}\n",
       "\\item[college] 'factor'\n",
       "\\item[public\\textbackslash{}\\_profile\\textbackslash{}\\_enabled] 'logical'\n",
       "\\item[going] 'factor'\n",
       "\\item[interested] 'logical'\n",
       "\\item[start\\textbackslash{}\\_term] 'factor'\n",
       "\\item[cohort\\textbackslash{}\\_year] 'integer'\n",
       "\\item[created\\textbackslash{}\\_by\\textbackslash{}\\_csv] 'logical'\n",
       "\\item[last\\textbackslash{}\\_login] 'integer'\n",
       "\\item[schools\\textbackslash{}\\_followed] 'integer'\n",
       "\\item[high\\textbackslash{}\\_school] 'factor'\n",
       "\\item[transfer\\textbackslash{}\\_status] 'logical'\n",
       "\\item[roommate\\textbackslash{}\\_match\\textbackslash{}\\_quiz] 'logical'\n",
       "\\item[chat\\textbackslash{}\\_messages\\textbackslash{}\\_sent] 'integer'\n",
       "\\item[chat\\textbackslash{}\\_viewed] 'integer'\n",
       "\\item[videos\\textbackslash{}\\_liked] 'integer'\n",
       "\\item[videos\\textbackslash{}\\_viewed] 'integer'\n",
       "\\item[videos\\textbackslash{}\\_viewed\\textbackslash{}\\_unique] 'integer'\n",
       "\\item[total\\textbackslash{}\\_official\\textbackslash{}\\_videos] 'integer'\n",
       "\\item[engaged] 'logical'\n",
       "\\item[final\\textbackslash{}\\_funnel\\textbackslash{}\\_stage] 'factor'\n",
       "\\end{description*}\n"
      ],
      "text/markdown": [
       "college\n",
       ":   'factor'public_profile_enabled\n",
       ":   'logical'going\n",
       ":   'factor'interested\n",
       ":   'logical'start_term\n",
       ":   'factor'cohort_year\n",
       ":   'integer'created_by_csv\n",
       ":   'logical'last_login\n",
       ":   'integer'schools_followed\n",
       ":   'integer'high_school\n",
       ":   'factor'transfer_status\n",
       ":   'logical'roommate_match_quiz\n",
       ":   'logical'chat_messages_sent\n",
       ":   'integer'chat_viewed\n",
       ":   'integer'videos_liked\n",
       ":   'integer'videos_viewed\n",
       ":   'integer'videos_viewed_unique\n",
       ":   'integer'total_official_videos\n",
       ":   'integer'engaged\n",
       ":   'logical'final_funnel_stage\n",
       ":   'factor'\n",
       "\n"
      ],
      "text/plain": [
       "               college public_profile_enabled                  going \n",
       "              \"factor\"              \"logical\"               \"factor\" \n",
       "            interested             start_term            cohort_year \n",
       "             \"logical\"               \"factor\"              \"integer\" \n",
       "        created_by_csv             last_login       schools_followed \n",
       "             \"logical\"              \"integer\"              \"integer\" \n",
       "           high_school        transfer_status    roommate_match_quiz \n",
       "              \"factor\"              \"logical\"              \"logical\" \n",
       "    chat_messages_sent            chat_viewed           videos_liked \n",
       "             \"integer\"              \"integer\"              \"integer\" \n",
       "         videos_viewed   videos_viewed_unique  total_official_videos \n",
       "             \"integer\"              \"integer\"              \"integer\" \n",
       "               engaged     final_funnel_stage \n",
       "             \"logical\"               \"factor\" "
      ]
     },
     "metadata": {},
     "output_type": "display_data"
    }
   ],
   "source": [
    "sapply(data, class)"
   ]
  },
  {
   "cell_type": "code",
   "execution_count": 7,
   "metadata": {},
   "outputs": [
    {
     "data": {
      "text/html": [
       "<dl class=dl-horizontal>\n",
       "\t<dt>college</dt>\n",
       "\t\t<dd>'integer'</dd>\n",
       "\t<dt>public_profile_enabled</dt>\n",
       "\t\t<dd>'logical'</dd>\n",
       "\t<dt>going</dt>\n",
       "\t\t<dd>'integer'</dd>\n",
       "\t<dt>interested</dt>\n",
       "\t\t<dd>'logical'</dd>\n",
       "\t<dt>start_term</dt>\n",
       "\t\t<dd>'integer'</dd>\n",
       "\t<dt>cohort_year</dt>\n",
       "\t\t<dd>'integer'</dd>\n",
       "\t<dt>created_by_csv</dt>\n",
       "\t\t<dd>'logical'</dd>\n",
       "\t<dt>last_login</dt>\n",
       "\t\t<dd>'integer'</dd>\n",
       "\t<dt>schools_followed</dt>\n",
       "\t\t<dd>'integer'</dd>\n",
       "\t<dt>high_school</dt>\n",
       "\t\t<dd>'integer'</dd>\n",
       "\t<dt>transfer_status</dt>\n",
       "\t\t<dd>'logical'</dd>\n",
       "\t<dt>roommate_match_quiz</dt>\n",
       "\t\t<dd>'logical'</dd>\n",
       "\t<dt>chat_messages_sent</dt>\n",
       "\t\t<dd>'integer'</dd>\n",
       "\t<dt>chat_viewed</dt>\n",
       "\t\t<dd>'integer'</dd>\n",
       "\t<dt>videos_liked</dt>\n",
       "\t\t<dd>'integer'</dd>\n",
       "\t<dt>videos_viewed</dt>\n",
       "\t\t<dd>'integer'</dd>\n",
       "\t<dt>videos_viewed_unique</dt>\n",
       "\t\t<dd>'integer'</dd>\n",
       "\t<dt>total_official_videos</dt>\n",
       "\t\t<dd>'integer'</dd>\n",
       "\t<dt>engaged</dt>\n",
       "\t\t<dd>'logical'</dd>\n",
       "\t<dt>final_funnel_stage</dt>\n",
       "\t\t<dd>'integer'</dd>\n",
       "</dl>\n"
      ],
      "text/latex": [
       "\\begin{description*}\n",
       "\\item[college] 'integer'\n",
       "\\item[public\\textbackslash{}\\_profile\\textbackslash{}\\_enabled] 'logical'\n",
       "\\item[going] 'integer'\n",
       "\\item[interested] 'logical'\n",
       "\\item[start\\textbackslash{}\\_term] 'integer'\n",
       "\\item[cohort\\textbackslash{}\\_year] 'integer'\n",
       "\\item[created\\textbackslash{}\\_by\\textbackslash{}\\_csv] 'logical'\n",
       "\\item[last\\textbackslash{}\\_login] 'integer'\n",
       "\\item[schools\\textbackslash{}\\_followed] 'integer'\n",
       "\\item[high\\textbackslash{}\\_school] 'integer'\n",
       "\\item[transfer\\textbackslash{}\\_status] 'logical'\n",
       "\\item[roommate\\textbackslash{}\\_match\\textbackslash{}\\_quiz] 'logical'\n",
       "\\item[chat\\textbackslash{}\\_messages\\textbackslash{}\\_sent] 'integer'\n",
       "\\item[chat\\textbackslash{}\\_viewed] 'integer'\n",
       "\\item[videos\\textbackslash{}\\_liked] 'integer'\n",
       "\\item[videos\\textbackslash{}\\_viewed] 'integer'\n",
       "\\item[videos\\textbackslash{}\\_viewed\\textbackslash{}\\_unique] 'integer'\n",
       "\\item[total\\textbackslash{}\\_official\\textbackslash{}\\_videos] 'integer'\n",
       "\\item[engaged] 'logical'\n",
       "\\item[final\\textbackslash{}\\_funnel\\textbackslash{}\\_stage] 'integer'\n",
       "\\end{description*}\n"
      ],
      "text/markdown": [
       "college\n",
       ":   'integer'public_profile_enabled\n",
       ":   'logical'going\n",
       ":   'integer'interested\n",
       ":   'logical'start_term\n",
       ":   'integer'cohort_year\n",
       ":   'integer'created_by_csv\n",
       ":   'logical'last_login\n",
       ":   'integer'schools_followed\n",
       ":   'integer'high_school\n",
       ":   'integer'transfer_status\n",
       ":   'logical'roommate_match_quiz\n",
       ":   'logical'chat_messages_sent\n",
       ":   'integer'chat_viewed\n",
       ":   'integer'videos_liked\n",
       ":   'integer'videos_viewed\n",
       ":   'integer'videos_viewed_unique\n",
       ":   'integer'total_official_videos\n",
       ":   'integer'engaged\n",
       ":   'logical'final_funnel_stage\n",
       ":   'integer'\n",
       "\n"
      ],
      "text/plain": [
       "               college public_profile_enabled                  going \n",
       "             \"integer\"              \"logical\"              \"integer\" \n",
       "            interested             start_term            cohort_year \n",
       "             \"logical\"              \"integer\"              \"integer\" \n",
       "        created_by_csv             last_login       schools_followed \n",
       "             \"logical\"              \"integer\"              \"integer\" \n",
       "           high_school        transfer_status    roommate_match_quiz \n",
       "             \"integer\"              \"logical\"              \"logical\" \n",
       "    chat_messages_sent            chat_viewed           videos_liked \n",
       "             \"integer\"              \"integer\"              \"integer\" \n",
       "         videos_viewed   videos_viewed_unique  total_official_videos \n",
       "             \"integer\"              \"integer\"              \"integer\" \n",
       "               engaged     final_funnel_stage \n",
       "             \"logical\"              \"integer\" "
      ]
     },
     "metadata": {},
     "output_type": "display_data"
    }
   ],
   "source": [
    "sapply(data, typeof)"
   ]
  },
  {
   "cell_type": "markdown",
   "metadata": {},
   "source": [
    "### Missing value in the data set"
   ]
  },
  {
   "cell_type": "code",
   "execution_count": 8,
   "metadata": {},
   "outputs": [
    {
     "data": {
      "text/html": [
       "<dl class=dl-horizontal>\n",
       "\t<dt>college</dt>\n",
       "\t\t<dd>0</dd>\n",
       "\t<dt>public_profile_enabled</dt>\n",
       "\t\t<dd>0</dd>\n",
       "\t<dt>going</dt>\n",
       "\t\t<dd>0</dd>\n",
       "\t<dt>interested</dt>\n",
       "\t\t<dd>0</dd>\n",
       "\t<dt>start_term</dt>\n",
       "\t\t<dd>0</dd>\n",
       "\t<dt>cohort_year</dt>\n",
       "\t\t<dd>0</dd>\n",
       "\t<dt>created_by_csv</dt>\n",
       "\t\t<dd>0</dd>\n",
       "\t<dt>last_login</dt>\n",
       "\t\t<dd>2</dd>\n",
       "\t<dt>schools_followed</dt>\n",
       "\t\t<dd>0</dd>\n",
       "\t<dt>high_school</dt>\n",
       "\t\t<dd>0</dd>\n",
       "\t<dt>transfer_status</dt>\n",
       "\t\t<dd>0</dd>\n",
       "\t<dt>roommate_match_quiz</dt>\n",
       "\t\t<dd>0</dd>\n",
       "\t<dt>chat_messages_sent</dt>\n",
       "\t\t<dd>0</dd>\n",
       "\t<dt>chat_viewed</dt>\n",
       "\t\t<dd>0</dd>\n",
       "\t<dt>videos_liked</dt>\n",
       "\t\t<dd>0</dd>\n",
       "\t<dt>videos_viewed</dt>\n",
       "\t\t<dd>0</dd>\n",
       "\t<dt>videos_viewed_unique</dt>\n",
       "\t\t<dd>0</dd>\n",
       "\t<dt>total_official_videos</dt>\n",
       "\t\t<dd>0</dd>\n",
       "\t<dt>engaged</dt>\n",
       "\t\t<dd>0</dd>\n",
       "\t<dt>final_funnel_stage</dt>\n",
       "\t\t<dd>0</dd>\n",
       "</dl>\n"
      ],
      "text/latex": [
       "\\begin{description*}\n",
       "\\item[college] 0\n",
       "\\item[public\\textbackslash{}\\_profile\\textbackslash{}\\_enabled] 0\n",
       "\\item[going] 0\n",
       "\\item[interested] 0\n",
       "\\item[start\\textbackslash{}\\_term] 0\n",
       "\\item[cohort\\textbackslash{}\\_year] 0\n",
       "\\item[created\\textbackslash{}\\_by\\textbackslash{}\\_csv] 0\n",
       "\\item[last\\textbackslash{}\\_login] 2\n",
       "\\item[schools\\textbackslash{}\\_followed] 0\n",
       "\\item[high\\textbackslash{}\\_school] 0\n",
       "\\item[transfer\\textbackslash{}\\_status] 0\n",
       "\\item[roommate\\textbackslash{}\\_match\\textbackslash{}\\_quiz] 0\n",
       "\\item[chat\\textbackslash{}\\_messages\\textbackslash{}\\_sent] 0\n",
       "\\item[chat\\textbackslash{}\\_viewed] 0\n",
       "\\item[videos\\textbackslash{}\\_liked] 0\n",
       "\\item[videos\\textbackslash{}\\_viewed] 0\n",
       "\\item[videos\\textbackslash{}\\_viewed\\textbackslash{}\\_unique] 0\n",
       "\\item[total\\textbackslash{}\\_official\\textbackslash{}\\_videos] 0\n",
       "\\item[engaged] 0\n",
       "\\item[final\\textbackslash{}\\_funnel\\textbackslash{}\\_stage] 0\n",
       "\\end{description*}\n"
      ],
      "text/markdown": [
       "college\n",
       ":   0public_profile_enabled\n",
       ":   0going\n",
       ":   0interested\n",
       ":   0start_term\n",
       ":   0cohort_year\n",
       ":   0created_by_csv\n",
       ":   0last_login\n",
       ":   2schools_followed\n",
       ":   0high_school\n",
       ":   0transfer_status\n",
       ":   0roommate_match_quiz\n",
       ":   0chat_messages_sent\n",
       ":   0chat_viewed\n",
       ":   0videos_liked\n",
       ":   0videos_viewed\n",
       ":   0videos_viewed_unique\n",
       ":   0total_official_videos\n",
       ":   0engaged\n",
       ":   0final_funnel_stage\n",
       ":   0\n",
       "\n"
      ],
      "text/plain": [
       "               college public_profile_enabled                  going \n",
       "                     0                      0                      0 \n",
       "            interested             start_term            cohort_year \n",
       "                     0                      0                      0 \n",
       "        created_by_csv             last_login       schools_followed \n",
       "                     0                      2                      0 \n",
       "           high_school        transfer_status    roommate_match_quiz \n",
       "                     0                      0                      0 \n",
       "    chat_messages_sent            chat_viewed           videos_liked \n",
       "                     0                      0                      0 \n",
       "         videos_viewed   videos_viewed_unique  total_official_videos \n",
       "                     0                      0                      0 \n",
       "               engaged     final_funnel_stage \n",
       "                     0                      0 "
      ]
     },
     "metadata": {},
     "output_type": "display_data"
    }
   ],
   "source": [
    "colSums(is.na(data))"
   ]
  },
  {
   "cell_type": "markdown",
   "metadata": {},
   "source": [
    " **Only the 'last_login' attribute contains missing values.**"
   ]
  },
  {
   "cell_type": "markdown",
   "metadata": {},
   "source": [
    "## Exploratory Analysis: Understanding the Data"
   ]
  },
  {
   "cell_type": "code",
   "execution_count": 9,
   "metadata": {},
   "outputs": [
    {
     "name": "stdout",
     "output_type": "stream",
     "text": [
      "[1] \"Total categorical features: 12\"\n",
      "[1] \"Total numerical features: 8\"\n"
     ]
    }
   ],
   "source": [
    "cat_cols <- c('college', 'public_profile_enabled', 'going', 'interested', 'start_term', 'cohort_year', 'created_by_csv', 'high_school', 'transfer_status', 'roommate_match_quiz', 'engaged', 'final_funnel_stage')\n",
    "num_cols <- c('last_login', 'schools_followed', 'chat_messages_sent', 'chat_viewed', 'videos_liked', 'videos_viewed', 'videos_viewed_unique', 'total_official_videos')\n",
    "\n",
    "print(paste(\"Total categorical features:\", length(cat_cols)))\n",
    "print(paste(\"Total numerical features:\", length(num_cols)))"
   ]
  },
  {
   "cell_type": "markdown",
   "metadata": {},
   "source": [
    "### Unique categories in each categorical column"
   ]
  },
  {
   "cell_type": "code",
   "execution_count": 10,
   "metadata": {},
   "outputs": [
    {
     "data": {
      "text/html": [
       "<dl class=dl-horizontal>\n",
       "\t<dt>college</dt>\n",
       "\t\t<dd>8</dd>\n",
       "\t<dt>public_profile_enabled</dt>\n",
       "\t\t<dd>2</dd>\n",
       "\t<dt>going</dt>\n",
       "\t\t<dd>3</dd>\n",
       "\t<dt>interested</dt>\n",
       "\t\t<dd>2</dd>\n",
       "\t<dt>start_term</dt>\n",
       "\t\t<dd>3</dd>\n",
       "\t<dt>cohort_year</dt>\n",
       "\t\t<dd>3</dd>\n",
       "\t<dt>created_by_csv</dt>\n",
       "\t\t<dd>2</dd>\n",
       "\t<dt>high_school</dt>\n",
       "\t\t<dd>25</dd>\n",
       "\t<dt>transfer_status</dt>\n",
       "\t\t<dd>2</dd>\n",
       "\t<dt>roommate_match_quiz</dt>\n",
       "\t\t<dd>2</dd>\n",
       "\t<dt>engaged</dt>\n",
       "\t\t<dd>2</dd>\n",
       "\t<dt>final_funnel_stage</dt>\n",
       "\t\t<dd>6</dd>\n",
       "</dl>\n"
      ],
      "text/latex": [
       "\\begin{description*}\n",
       "\\item[college] 8\n",
       "\\item[public\\textbackslash{}\\_profile\\textbackslash{}\\_enabled] 2\n",
       "\\item[going] 3\n",
       "\\item[interested] 2\n",
       "\\item[start\\textbackslash{}\\_term] 3\n",
       "\\item[cohort\\textbackslash{}\\_year] 3\n",
       "\\item[created\\textbackslash{}\\_by\\textbackslash{}\\_csv] 2\n",
       "\\item[high\\textbackslash{}\\_school] 25\n",
       "\\item[transfer\\textbackslash{}\\_status] 2\n",
       "\\item[roommate\\textbackslash{}\\_match\\textbackslash{}\\_quiz] 2\n",
       "\\item[engaged] 2\n",
       "\\item[final\\textbackslash{}\\_funnel\\textbackslash{}\\_stage] 6\n",
       "\\end{description*}\n"
      ],
      "text/markdown": [
       "college\n",
       ":   8public_profile_enabled\n",
       ":   2going\n",
       ":   3interested\n",
       ":   2start_term\n",
       ":   3cohort_year\n",
       ":   3created_by_csv\n",
       ":   2high_school\n",
       ":   25transfer_status\n",
       ":   2roommate_match_quiz\n",
       ":   2engaged\n",
       ":   2final_funnel_stage\n",
       ":   6\n",
       "\n"
      ],
      "text/plain": [
       "               college public_profile_enabled                  going \n",
       "                     8                      2                      3 \n",
       "            interested             start_term            cohort_year \n",
       "                     2                      3                      3 \n",
       "        created_by_csv            high_school        transfer_status \n",
       "                     2                     25                      2 \n",
       "   roommate_match_quiz                engaged     final_funnel_stage \n",
       "                     2                      2                      6 "
      ]
     },
     "metadata": {},
     "output_type": "display_data"
    }
   ],
   "source": [
    "cat_data <- data[, (colnames(data) %in% cat_cols)]\n",
    "\n",
    "sapply(cat_data, function(x) length(unique(x)))"
   ]
  },
  {
   "cell_type": "code",
   "execution_count": 11,
   "metadata": {},
   "outputs": [
    {
     "name": "stderr",
     "output_type": "stream",
     "text": [
      "Warning message:\n",
      "\"package 'magrittr' was built under R version 3.6.2\"Warning message:\n",
      "\"package 'plyr' was built under R version 3.6.2\"Warning message:\n",
      "\"package 'dplyr' was built under R version 3.6.2\"\n",
      "Attaching package: 'dplyr'\n",
      "\n",
      "The following objects are masked from 'package:plyr':\n",
      "\n",
      "    arrange, count, desc, failwith, id, mutate, rename, summarise,\n",
      "    summarize\n",
      "\n",
      "The following objects are masked from 'package:stats':\n",
      "\n",
      "    filter, lag\n",
      "\n",
      "The following objects are masked from 'package:base':\n",
      "\n",
      "    intersect, setdiff, setequal, union\n",
      "\n",
      "Warning message:\n",
      "\"package 'purrr' was built under R version 3.6.2\"\n",
      "Attaching package: 'purrr'\n",
      "\n",
      "The following object is masked from 'package:plyr':\n",
      "\n",
      "    compact\n",
      "\n",
      "The following object is masked from 'package:magrittr':\n",
      "\n",
      "    set_names\n",
      "\n",
      "Warning message:\n",
      "\"package 'tidyr' was built under R version 3.6.2\"\n",
      "Attaching package: 'tidyr'\n",
      "\n",
      "The following object is masked from 'package:magrittr':\n",
      "\n",
      "    extract\n",
      "\n",
      "Warning message:\n",
      "\"package 'ggplot2' was built under R version 3.6.2\"Warning message:\n",
      "\"package 'gridExtra' was built under R version 3.6.2\"\n",
      "Attaching package: 'gridExtra'\n",
      "\n",
      "The following object is masked from 'package:dplyr':\n",
      "\n",
      "    combine\n",
      "\n"
     ]
    }
   ],
   "source": [
    "library(magrittr)\n",
    "library(plyr)\n",
    "library(dplyr)\n",
    "library(purrr)\n",
    "library(tidyr)\n",
    "\n",
    "library(ggplot2)\n",
    "library(grid)\n",
    "library(gridExtra)\n",
    "\n",
    "set.seed(1234)\n",
    "options(warn=-1)"
   ]
  },
  {
   "cell_type": "markdown",
   "metadata": {},
   "source": [
    "### Frequencies of categories in each categorical columns"
   ]
  },
  {
   "cell_type": "code",
   "execution_count": 12,
   "metadata": {},
   "outputs": [
    {
     "data": {
      "image/png": "[encoded data removed]",
      "text/plain": [
       "plot without title"
      ]
     },
     "metadata": {},
     "output_type": "display_data"
    }
   ],
   "source": [
    "options(repr.plot.width=15, repr.plot.height=25)\n",
    "\n",
    "count_plots <- function (data, column) {\n",
    "    ggplot(data, aes_string(x=column)) +\n",
    "        geom_bar(colour=\"black\", fill=\"#83ff52\") +\n",
    "        xlab(column) +\n",
    "        coord_flip()\n",
    "#         theme(axis.title.y = element_text(size = rel(1.0), angle = 90)) +\n",
    "#         theme(axis.title.x = element_text(size = rel(1.0), angle = 00))\n",
    "}\n",
    "\n",
    "cat_plots <- lapply(colnames(cat_data), count_plots, data=cat_data)\n",
    "\n",
    "grid.arrange(grobs=cat_plots, ncol=2, as.table=FALSE)\n",
    "\n",
    "\n",
    "\n",
    "# cat_data %>%\n",
    "#   gather() %>% \n",
    "#   ggplot(aes(value)) +\n",
    "#     facet_wrap(~ key, scales=\"free\") +\n",
    "#     geom_bar(colour=\"black\", fill=\"#DD8888\") +\n",
    "#     coord_flip()"
   ]
  },
  {
   "cell_type": "markdown",
   "metadata": {},
   "source": [
    "### Exploring the numerical data"
   ]
  },
  {
   "cell_type": "markdown",
   "metadata": {},
   "source": [
    "#### Describing using simple stats"
   ]
  },
  {
   "cell_type": "code",
   "execution_count": 13,
   "metadata": {},
   "outputs": [],
   "source": [
    "num_data <- data[, (colnames(data) %in% num_cols)]"
   ]
  },
  {
   "cell_type": "code",
   "execution_count": 14,
   "metadata": {},
   "outputs": [
    {
     "data": {
      "text/plain": [
       "   last_login     schools_followed chat_messages_sent  chat_viewed     \n",
       " Min.   :  13.0   Min.   :  1.00   Min.   :   0.000   Min.   :   0.00  \n",
       " 1st Qu.: 130.0   1st Qu.:  1.00   1st Qu.:   0.000   1st Qu.:   0.00  \n",
       " Median : 226.0   Median :  2.00   Median :   0.000   Median :   0.00  \n",
       " Mean   : 238.6   Mean   :  4.19   Mean   :   1.879   Mean   :  12.12  \n",
       " 3rd Qu.: 299.0   3rd Qu.:  5.00   3rd Qu.:   0.000   3rd Qu.:   1.00  \n",
       " Max.   :1549.0   Max.   :214.00   Max.   :1307.000   Max.   :1735.00  \n",
       " NA's   :2                                                             \n",
       "  videos_liked      videos_viewed     videos_viewed_unique\n",
       " Min.   : 0.00000   Min.   :   0.00   Min.   :  0.000     \n",
       " 1st Qu.: 0.00000   1st Qu.:   0.00   1st Qu.:  0.000     \n",
       " Median : 0.00000   Median :   0.00   Median :  0.000     \n",
       " Mean   : 0.04682   Mean   :  23.39   Mean   :  5.701     \n",
       " 3rd Qu.: 0.00000   3rd Qu.:  11.00   3rd Qu.:  4.000     \n",
       " Max.   :23.00000   Max.   :4857.00   Max.   :527.000     \n",
       "                                                          \n",
       " total_official_videos\n",
       " Min.   :  0.0        \n",
       " 1st Qu.: 42.0        \n",
       " Median : 56.0        \n",
       " Mean   :134.6        \n",
       " 3rd Qu.:180.0        \n",
       " Max.   :637.0        \n",
       "                      "
      ]
     },
     "metadata": {},
     "output_type": "display_data"
    }
   ],
   "source": [
    "summary(num_data)"
   ]
  },
  {
   "cell_type": "markdown",
   "metadata": {},
   "source": [
    "### Describing the distribution of the numerical columns"
   ]
  },
  {
   "cell_type": "code",
   "execution_count": 15,
   "metadata": {},
   "outputs": [
    {
     "data": {
      "image/png": "[encoded data removed]",
      "text/plain": [
       "plot without title"
      ]
     },
     "metadata": {},
     "output_type": "display_data"
    }
   ],
   "source": [
    "options(repr.plot.width=7, repr.plot.height=12)\n",
    "\n",
    "dist_plots <- function (data, column) {\n",
    "    ggplot(data, aes_string(x=column)) +\n",
    "    geom_density(fill=\"#FF6666\")\n",
    "}\n",
    "\n",
    "num_plots <- lapply(colnames(num_data), dist_plots, data=num_data)\n",
    "\n",
    "grid.arrange(grobs=num_plots, ncol=2, as.table=FALSE)\n",
    "# num_data %>%\n",
    "#   gather() %>% \n",
    "#   ggplot(aes(value)) +\n",
    "#     facet_wrap(~ key, scales = \"free\") +\n",
    "#     geom_density(fill=\"#FF6666\")"
   ]
  },
  {
   "cell_type": "markdown",
   "metadata": {},
   "source": [
    "### Describing the numerical columns using box plots"
   ]
  },
  {
   "cell_type": "code",
   "execution_count": 16,
   "metadata": {},
   "outputs": [
    {
     "data": {
      "image/png": "[encoded data removed]",
      "text/plain": [
       "plot without title"
      ]
     },
     "metadata": {},
     "output_type": "display_data"
    }
   ],
   "source": [
    "options(repr.plot.width=10, repr.plot.height=15)\n",
    "\n",
    "dist_plots <- function (data, column) {\n",
    "    ggplot(data, aes_string(x=column, y=column)) + \n",
    "    geom_boxplot(fill=\"#FF6666\") +\n",
    "    guides(fill=FALSE)\n",
    "}\n",
    "\n",
    "num_plots <- lapply(colnames(num_data), dist_plots, data=num_data)\n",
    "\n",
    "grid.arrange(grobs=num_plots, ncol=2, as.table=FALSE)\n",
    "\n",
    "\n",
    "\n",
    "# num_data %>%\n",
    "#   gather() %>% \n",
    "#   ggplot(aes(value, value)) +\n",
    "#     facet_wrap(~ key, scales = \"free\") +\n",
    "#     geom_boxplot(fill=\"#FF6666\")"
   ]
  },
  {
   "cell_type": "markdown",
   "metadata": {},
   "source": [
    "### Transforming the target column into two categories\n",
    "* enroll (funnel stage Enrolled or Deposited)\n",
    "* doesn't enroll"
   ]
  },
  {
   "cell_type": "code",
   "execution_count": 17,
   "metadata": {},
   "outputs": [],
   "source": [
    "data$final_funnel_stage <- revalue(data$final_funnel_stage, c('Enrolled' = 'Enroll',\n",
    "                                                              'Deposited'='Enroll',\n",
    "                                                               'Inquired' = \"Doesn't Enroll\", \n",
    "                                                               'Applied' = \"Doesn't Enroll\",\n",
    "                                                               'Accepted' = \"Doesn't Enroll\",\n",
    "                                                               'Application_Complete' = \"Doesn't Enroll\"))"
   ]
  },
  {
   "cell_type": "markdown",
   "metadata": {},
   "source": [
    "### Percentage of students in the data got enrolled"
   ]
  },
  {
   "cell_type": "code",
   "execution_count": 18,
   "metadata": {},
   "outputs": [
    {
     "data": {
      "image/png": "[encoded data removed]",
      "text/plain": [
       "plot without title"
      ]
     },
     "metadata": {},
     "output_type": "display_data"
    }
   ],
   "source": [
    "options(repr.plot.width=5, repr.plot.height=5)\n",
    "\n",
    "data_pie <- data %>% \n",
    "  group_by(final_funnel_stage) %>% \n",
    "  count() %>% \n",
    "  ungroup() %>% \n",
    "  mutate(per=n/sum(n)) %>% \n",
    "  arrange(desc(final_funnel_stage))\n",
    "\n",
    "ggplot(data=data_pie)+\n",
    "  geom_bar(aes(x=\"\", y=per, fill=final_funnel_stage), stat=\"identity\", width = 1)+\n",
    "  coord_polar(\"y\", start=0, direction = -1)+\n",
    "  theme_void()+\n",
    "  geom_text(aes(x=1, y = cumsum(per) - per/2, label=scales::percent(data_pie$per)))"
   ]
  },
  {
   "cell_type": "markdown",
   "metadata": {},
   "source": [
    "## Data Preprocessing"
   ]
  },
  {
   "cell_type": "markdown",
   "metadata": {},
   "source": [
    "#### Drop missing values"
   ]
  },
  {
   "cell_type": "code",
   "execution_count": 19,
   "metadata": {},
   "outputs": [],
   "source": [
    "complete_data = na.omit(data)"
   ]
  },
  {
   "cell_type": "markdown",
   "metadata": {},
   "source": [
    "#### Make Train-Test Split"
   ]
  },
  {
   "cell_type": "code",
   "execution_count": 20,
   "metadata": {},
   "outputs": [
    {
     "name": "stdout",
     "output_type": "stream",
     "text": [
      "[1] \"Shape of training set: 15068, 20\"\n",
      "[1] \"Shape of test set: 3767, 20\"\n"
     ]
    }
   ],
   "source": [
    "trainRowCount <- floor(0.8 * nrow(complete_data))\n",
    "set.seed(1234)\n",
    "\n",
    "trainIndex <- sample(1:nrow(complete_data), trainRowCount)\n",
    "train <- complete_data[trainIndex,]\n",
    "test <- complete_data[-trainIndex,]\n",
    "\n",
    "print(paste(\"Shape of training set:\", toString(dim(train))))\n",
    "print(paste(\"Shape of test set:\", toString(dim(test))))"
   ]
  },
  {
   "cell_type": "markdown",
   "metadata": {},
   "source": [
    "## Building a Logistic Regression Model"
   ]
  },
  {
   "cell_type": "code",
   "execution_count": 21,
   "metadata": {
    "scrolled": true
   },
   "outputs": [
    {
     "data": {
      "text/plain": [
       "\n",
       "Call:\n",
       "glm(formula = final_funnel_stage ~ college + public_profile_enabled + \n",
       "    going + interested + start_term + cohort_year + created_by_csv + \n",
       "    last_login + schools_followed + high_school + transfer_status + \n",
       "    roommate_match_quiz + chat_messages_sent + chat_viewed + \n",
       "    videos_liked + videos_viewed + videos_viewed_unique + total_official_videos + \n",
       "    engaged, family = binomial(link = \"logit\"), data = train)\n",
       "\n",
       "Deviance Residuals: \n",
       "    Min       1Q   Median       3Q      Max  \n",
       "-3.0455  -0.2872  -0.1829  -0.0785   5.2045  \n",
       "\n",
       "Coefficients:\n",
       "                             Estimate Std. Error z value Pr(>|z|)    \n",
       "(Intercept)                 1.852e+03  1.855e+03   0.998  0.31824    \n",
       "collegecollege2            -5.879e-01  1.390e-01  -4.228 2.35e-05 ***\n",
       "collegecollege3            -4.609e-01  1.567e-01  -2.942  0.00326 ** \n",
       "collegecollege4             7.355e-02  1.474e-01   0.499  0.61787    \n",
       "collegecollege5             6.451e-01  1.445e-01   4.463 8.09e-06 ***\n",
       "collegecollege6             3.160e-01  2.114e-01   1.495  0.13488    \n",
       "collegecollege7             1.099e+00  3.717e-01   2.956  0.00311 ** \n",
       "collegecollege8            -1.198e-01  2.200e-01  -0.545  0.58609    \n",
       "public_profile_enabledTRUE -2.434e-01  2.265e-01  -1.075  0.28245    \n",
       "goingnotgoing              -3.739e+00  3.242e-01 -11.535  < 2e-16 ***\n",
       "goingundecided             -2.375e+00  1.406e-01 -16.899  < 2e-16 ***\n",
       "interestedTRUE              1.781e+00  1.956e-01   9.107  < 2e-16 ***\n",
       "start_termspring            2.432e+00  3.353e-01   7.253 4.08e-13 ***\n",
       "start_termsummer           -9.294e-02  3.519e-01  -0.264  0.79171    \n",
       "cohort_year                -9.222e-01  8.818e-01  -1.046  0.29562    \n",
       "created_by_csvTRUE         -5.096e-01  1.100e-01  -4.632 3.62e-06 ***\n",
       "last_login                 -7.145e-03  5.071e-04 -14.089  < 2e-16 ***\n",
       "schools_followed           -2.765e-01  1.796e-02 -15.393  < 2e-16 ***\n",
       "high_schoolhs10             1.131e+01  5.226e+02   0.022  0.98273    \n",
       "high_schoolhs11             9.863e+00  5.226e+02   0.019  0.98494    \n",
       "high_schoolhs12             1.177e+01  5.226e+02   0.023  0.98203    \n",
       "high_schoolhs13             1.095e+01  5.226e+02   0.021  0.98328    \n",
       "high_schoolhs14             1.070e+01  5.226e+02   0.020  0.98367    \n",
       "high_schoolhs15             1.115e+01  5.226e+02   0.021  0.98298    \n",
       "high_schoolhs16             1.074e+01  5.226e+02   0.021  0.98361    \n",
       "high_schoolhs17             9.746e+00  5.226e+02   0.019  0.98512    \n",
       "high_schoolhs18            -3.799e+00  7.896e+02  -0.005  0.99616    \n",
       "high_schoolhs19             8.447e+00  5.226e+02   0.016  0.98710    \n",
       "high_schoolhs2              3.655e-01  6.673e+02   0.001  0.99956    \n",
       "high_schoolhs20             8.740e+00  5.226e+02   0.017  0.98666    \n",
       "high_schoolhs21             8.685e+00  5.226e+02   0.017  0.98674    \n",
       "high_schoolhs22             1.057e+01  5.226e+02   0.020  0.98387    \n",
       "high_schoolhs23            -2.957e+00  7.939e+02  -0.004  0.99703    \n",
       "high_schoolhs3              1.185e+01  5.226e+02   0.023  0.98190    \n",
       "high_schoolhs4              8.831e+00  5.226e+02   0.017  0.98652    \n",
       "high_schoolhs5             -2.300e+00  6.842e+02  -0.003  0.99732    \n",
       "high_schoolhs6             -2.581e+00  7.248e+02  -0.004  0.99716    \n",
       "high_schoolhs7             -2.897e+00  7.085e+02  -0.004  0.99674    \n",
       "high_schoolhs8              9.332e+00  5.226e+02   0.018  0.98575    \n",
       "high_schoolhs9              1.060e+01  5.226e+02   0.020  0.98382    \n",
       "high_schoolother            9.892e+00  5.226e+02   0.019  0.98490    \n",
       "high_schoolunknown          9.949e+00  5.226e+02   0.019  0.98481    \n",
       "transfer_statusTRUE         8.064e-01  1.730e-01   4.662 3.13e-06 ***\n",
       "roommate_match_quizTRUE     4.597e-01  1.159e-01   3.965 7.34e-05 ***\n",
       "chat_messages_sent         -1.018e-03  2.220e-03  -0.459  0.64647    \n",
       "chat_viewed                 9.259e-03  1.078e-03   8.588  < 2e-16 ***\n",
       "videos_liked                6.414e-03  4.119e-02   0.156  0.87627    \n",
       "videos_viewed               2.558e-04  4.038e-04   0.633  0.52647    \n",
       "videos_viewed_unique        3.751e-03  2.909e-03   1.290  0.19721    \n",
       "total_official_videos      -5.475e-04  6.716e-04  -0.815  0.41493    \n",
       "engagedTRUE                 1.094e+00  1.045e-01  10.469  < 2e-16 ***\n",
       "---\n",
       "Signif. codes:  0 '***' 0.001 '**' 0.01 '*' 0.05 '.' 0.1 ' ' 1\n",
       "\n",
       "(Dispersion parameter for binomial family taken to be 1)\n",
       "\n",
       "    Null deviance: 11183.9  on 15067  degrees of freedom\n",
       "Residual deviance:  5235.7  on 15017  degrees of freedom\n",
       "AIC: 5337.7\n",
       "\n",
       "Number of Fisher Scoring iterations: 15\n"
      ]
     },
     "metadata": {},
     "output_type": "display_data"
    }
   ],
   "source": [
    "logit_model <- glm(final_funnel_stage ~ college + public_profile_enabled + going + interested + start_term + cohort_year + created_by_csv + last_login + schools_followed + high_school + transfer_status + roommate_match_quiz + chat_messages_sent + chat_viewed + videos_liked + videos_viewed + videos_viewed_unique + total_official_videos + engaged, \n",
    "                data=train, \n",
    "                family=binomial(link=\"logit\"))\n",
    "\n",
    "summary(logit_model)"
   ]
  },
  {
   "cell_type": "code",
   "execution_count": 22,
   "metadata": {},
   "outputs": [],
   "source": [
    "y_pred <- predict(logit_model, test[,-20], type=\"response\")\n",
    "predictions_logit <- factor(ifelse(y_pred > 0.5, \"Enroll\", \"Doesn't Enroll\"))"
   ]
  },
  {
   "cell_type": "code",
   "execution_count": 23,
   "metadata": {},
   "outputs": [
    {
     "name": "stderr",
     "output_type": "stream",
     "text": [
      "Loading required package: lattice\n",
      "\n",
      "Attaching package: 'caret'\n",
      "\n",
      "The following object is masked from 'package:purrr':\n",
      "\n",
      "    lift\n",
      "\n"
     ]
    },
    {
     "data": {
      "text/plain": [
       "Confusion Matrix and Statistics\n",
       "\n",
       "                Reference\n",
       "Prediction       Doesn't Enroll Enroll\n",
       "  Doesn't Enroll           3298    157\n",
       "  Enroll                     37    275\n",
       "                                         \n",
       "               Accuracy : 0.9485         \n",
       "                 95% CI : (0.941, 0.9553)\n",
       "    No Information Rate : 0.8853         \n",
       "    P-Value [Acc > NIR] : < 2.2e-16      \n",
       "                                         \n",
       "                  Kappa : 0.7115         \n",
       "                                         \n",
       " Mcnemar's Test P-Value : < 2.2e-16      \n",
       "                                         \n",
       "            Sensitivity : 0.63657        \n",
       "            Specificity : 0.98891        \n",
       "         Pos Pred Value : 0.88141        \n",
       "         Neg Pred Value : 0.95456        \n",
       "             Prevalence : 0.11468        \n",
       "         Detection Rate : 0.07300        \n",
       "   Detection Prevalence : 0.08282        \n",
       "      Balanced Accuracy : 0.81274        \n",
       "                                         \n",
       "       'Positive' Class : Enroll         \n",
       "                                         "
      ]
     },
     "metadata": {},
     "output_type": "display_data"
    }
   ],
   "source": [
    "library(caret)\n",
    "confusionMatrix(predictions_logit, test$final_funnel_stage, positive = \"Enroll\")"
   ]
  },
  {
   "cell_type": "code",
   "execution_count": 24,
   "metadata": {
    "scrolled": false
   },
   "outputs": [
    {
     "ename": "ERROR",
     "evalue": "Error in library(pROC): there is no package called 'pROC'\n",
     "output_type": "error",
     "traceback": [
      "Error in library(pROC): there is no package called 'pROC'\nTraceback:\n",
      "1. library(pROC)"
     ]
    }
   ],
   "source": [
    "options(repr.plot.width=5, repr.plot.height=5)\n",
    "\n",
    "library(pROC)\n",
    "\n",
    "res.roc <- roc(test$final_funnel_stage, y_pred)\n",
    "plot.roc(res.roc, print.auc = TRUE, print.thres = \"best\")"
   ]
  },
  {
   "cell_type": "markdown",
   "metadata": {},
   "source": [
    "## Building a Random Forest Model"
   ]
  },
  {
   "cell_type": "code",
   "execution_count": null,
   "metadata": {},
   "outputs": [],
   "source": [
    "library(randomForest)\n",
    "\n",
    "features <- c('college', 'public_profile_enabled', 'going', 'interested', 'start_term', 'cohort_year', \n",
    "              'created_by_csv', 'last_login', 'schools_followed', 'high_school', 'transfer_status', \n",
    "              'roommate_match_quiz', 'chat_messages_sent', 'chat_viewed', 'videos_liked', 'videos_viewed', \n",
    "              'videos_viewed_unique', 'total_official_videos', 'engaged')\n",
    "\n",
    "rf_model <- randomForest(train[features], train$final_funnel_stage)\n",
    "\n",
    "summary(rf_model)"
   ]
  },
  {
   "cell_type": "code",
   "execution_count": null,
   "metadata": {},
   "outputs": [],
   "source": [
    "predictions_rf <- predict(rf_model, test[features])"
   ]
  },
  {
   "cell_type": "code",
   "execution_count": null,
   "metadata": {},
   "outputs": [],
   "source": [
    "varImp(rf_model)"
   ]
  },
  {
   "cell_type": "code",
   "execution_count": null,
   "metadata": {
    "scrolled": false
   },
   "outputs": [],
   "source": [
    "varImpPlot(rf_model)"
   ]
  },
  {
   "cell_type": "code",
   "execution_count": null,
   "metadata": {},
   "outputs": [],
   "source": [
    "options(repr.plot.width=15, repr.plot.height=7)\n",
    "\n",
    "var_importance <- data_frame(variable=setdiff(colnames(train), \"final_funnel_stage\"),\n",
    "                             importance=as.vector(importance(rf_model)))\n",
    "var_importance <- arrange(var_importance, desc(importance))\n",
    "var_importance$variable <- factor(var_importance$variable, levels=var_importance$variable)\n",
    "\n",
    "p <- ggplot(var_importance, aes(x=variable, weight=importance, fill=variable))\n",
    "p <- p + geom_bar() + ggtitle(\"Variable Importance from Random Forest Fit\")\n",
    "p <- p + xlab(\"Demographic Attribute\") + ylab(\"Variable Importance (Mean Decrease in Gini Index)\")\n",
    "p <- p + scale_fill_discrete(name=\"Variable Name\")\n",
    "p + theme(axis.text.x=element_blank(),\n",
    "          axis.text.y=element_text(size=12),\n",
    "          axis.title=element_text(size=16),\n",
    "          plot.title=element_text(size=18),\n",
    "          legend.title=element_text(size=16),\n",
    "          legend.text=element_text(size=12))"
   ]
  },
  {
   "cell_type": "code",
   "execution_count": null,
   "metadata": {},
   "outputs": [],
   "source": [
    "library(caret)\n",
    "\n",
    "confusionMatrix(predictions_rf, test$final_funnel_stage, positive = \"Enroll\")"
   ]
  },
  {
   "cell_type": "code",
   "execution_count": null,
   "metadata": {},
   "outputs": [],
   "source": [
    "options(repr.plot.width=5, repr.plot.height=5)\n",
    "\n",
    "library(pROC)\n",
    "\n",
    "predicted_probabilities <- predict(rf_model, test[features], type = \"prob\")[,2]\n",
    "\n",
    "res.roc <- roc(test$final_funnel_stage, predicted_probabilities)\n",
    "plot.roc(res.roc, print.auc = TRUE, print.thres = \"best\")"
   ]
  },
  {
   "cell_type": "code",
   "execution_count": null,
   "metadata": {},
   "outputs": [],
   "source": [
    "# Extract some interesting results\n",
    "roc.data <- data_frame(\n",
    "  thresholds = res.roc$thresholds,\n",
    "  sensitivity = res.roc$sensitivities,\n",
    "  specificity = res.roc$specificities\n",
    ")\n",
    "\n",
    "# Get the probablity threshold for specificity = 0.6\n",
    "roc.data %>% filter(specificity >= 0.6)"
   ]
  }
 ],
 "metadata": {
  "kernelspec": {
   "display_name": "R",
   "language": "R",
   "name": "ir"
  },
  "language_info": {
   "codemirror_mode": "r",
   "file_extension": ".r",
   "mimetype": "text/x-r-source",
   "name": "R",
   "pygments_lexer": "r",
   "version": "3.6.1"
  }
 },
 "nbformat": 4,
 "nbformat_minor": 4
}
